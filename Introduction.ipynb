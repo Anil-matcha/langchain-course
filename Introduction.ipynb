{
  "nbformat": 4,
  "nbformat_minor": 0,
  "metadata": {
    "colab": {
      "provenance": [],
      "authorship_tag": "ABX9TyP9nw9KYysuioDoQJobh/i4",
      "include_colab_link": true
    },
    "kernelspec": {
      "name": "python3",
      "display_name": "Python 3"
    },
    "language_info": {
      "name": "python"
    }
  },
  "cells": [
    {
      "cell_type": "markdown",
      "metadata": {
        "id": "view-in-github",
        "colab_type": "text"
      },
      "source": [
        "<a href=\"https://colab.research.google.com/github/Anil-matcha/langchain-course/blob/main/Introduction.ipynb\" target=\"_parent\"><img src=\"https://colab.research.google.com/assets/colab-badge.svg\" alt=\"Open In Colab\"/></a>"
      ]
    },
    {
      "cell_type": "markdown",
      "source": [
        "# Introduction\n",
        "\n",
        "In this lesson we will learn the basis of interacting with ChatGPT using a library called Langchain\n",
        "\n",
        "### Why we use Langchain ?\n",
        "\n",
        "Langchain is a python library we will use to interact with ChatGPT and build apps on top of it\n",
        "\n",
        "In this lesson we will learn how to interact with ChatGPT to generate text. Many apps which are valued millions of dollars like JasperAI, CopyAI etc. do the same as part of their core business"
      ],
      "metadata": {
        "id": "w12Jz3h_INct"
      }
    },
    {
      "cell_type": "markdown",
      "source": [
        "## Generating Text"
      ],
      "metadata": {
        "id": "To0cTjhBFT0V"
      }
    },
    {
      "cell_type": "code",
      "source": [
        "# Let's install necessary libraries\n",
        "\n",
        "!pip install langchain\n",
        "!pip install openai\n",
        "!pip install tiktoken"
      ],
      "metadata": {
        "id": "TVyqccumI333",
        "colab": {
          "base_uri": "https://localhost:8080/"
        },
        "outputId": "97613191-5b8f-49e0-9a29-043b7fda7683"
      },
      "execution_count": 12,
      "outputs": [
        {
          "output_type": "stream",
          "name": "stdout",
          "text": [
            "Looking in indexes: https://pypi.org/simple, https://us-python.pkg.dev/colab-wheels/public/simple/\n",
            "Requirement already satisfied: langchain in /usr/local/lib/python3.10/dist-packages (0.0.174)\n",
            "Requirement already satisfied: PyYAML>=5.4.1 in /usr/local/lib/python3.10/dist-packages (from langchain) (6.0)\n",
            "Requirement already satisfied: SQLAlchemy<3,>=1.4 in /usr/local/lib/python3.10/dist-packages (from langchain) (2.0.10)\n",
            "Requirement already satisfied: aiohttp<4.0.0,>=3.8.3 in /usr/local/lib/python3.10/dist-packages (from langchain) (3.8.4)\n",
            "Requirement already satisfied: async-timeout<5.0.0,>=4.0.0 in /usr/local/lib/python3.10/dist-packages (from langchain) (4.0.2)\n",
            "Requirement already satisfied: dataclasses-json<0.6.0,>=0.5.7 in /usr/local/lib/python3.10/dist-packages (from langchain) (0.5.7)\n",
            "Requirement already satisfied: numexpr<3.0.0,>=2.8.4 in /usr/local/lib/python3.10/dist-packages (from langchain) (2.8.4)\n",
            "Requirement already satisfied: numpy<2,>=1 in /usr/local/lib/python3.10/dist-packages (from langchain) (1.22.4)\n",
            "Requirement already satisfied: openapi-schema-pydantic<2.0,>=1.2 in /usr/local/lib/python3.10/dist-packages (from langchain) (1.2.4)\n",
            "Requirement already satisfied: pydantic<2,>=1 in /usr/local/lib/python3.10/dist-packages (from langchain) (1.10.7)\n",
            "Requirement already satisfied: requests<3,>=2 in /usr/local/lib/python3.10/dist-packages (from langchain) (2.27.1)\n",
            "Requirement already satisfied: tenacity<9.0.0,>=8.1.0 in /usr/local/lib/python3.10/dist-packages (from langchain) (8.2.2)\n",
            "Requirement already satisfied: attrs>=17.3.0 in /usr/local/lib/python3.10/dist-packages (from aiohttp<4.0.0,>=3.8.3->langchain) (23.1.0)\n",
            "Requirement already satisfied: charset-normalizer<4.0,>=2.0 in /usr/local/lib/python3.10/dist-packages (from aiohttp<4.0.0,>=3.8.3->langchain) (2.0.12)\n",
            "Requirement already satisfied: multidict<7.0,>=4.5 in /usr/local/lib/python3.10/dist-packages (from aiohttp<4.0.0,>=3.8.3->langchain) (6.0.4)\n",
            "Requirement already satisfied: yarl<2.0,>=1.0 in /usr/local/lib/python3.10/dist-packages (from aiohttp<4.0.0,>=3.8.3->langchain) (1.9.2)\n",
            "Requirement already satisfied: frozenlist>=1.1.1 in /usr/local/lib/python3.10/dist-packages (from aiohttp<4.0.0,>=3.8.3->langchain) (1.3.3)\n",
            "Requirement already satisfied: aiosignal>=1.1.2 in /usr/local/lib/python3.10/dist-packages (from aiohttp<4.0.0,>=3.8.3->langchain) (1.3.1)\n",
            "Requirement already satisfied: marshmallow<4.0.0,>=3.3.0 in /usr/local/lib/python3.10/dist-packages (from dataclasses-json<0.6.0,>=0.5.7->langchain) (3.19.0)\n",
            "Requirement already satisfied: marshmallow-enum<2.0.0,>=1.5.1 in /usr/local/lib/python3.10/dist-packages (from dataclasses-json<0.6.0,>=0.5.7->langchain) (1.5.1)\n",
            "Requirement already satisfied: typing-inspect>=0.4.0 in /usr/local/lib/python3.10/dist-packages (from dataclasses-json<0.6.0,>=0.5.7->langchain) (0.8.0)\n",
            "Requirement already satisfied: typing-extensions>=4.2.0 in /usr/local/lib/python3.10/dist-packages (from pydantic<2,>=1->langchain) (4.5.0)\n",
            "Requirement already satisfied: urllib3<1.27,>=1.21.1 in /usr/local/lib/python3.10/dist-packages (from requests<3,>=2->langchain) (1.26.15)\n",
            "Requirement already satisfied: certifi>=2017.4.17 in /usr/local/lib/python3.10/dist-packages (from requests<3,>=2->langchain) (2022.12.7)\n",
            "Requirement already satisfied: idna<4,>=2.5 in /usr/local/lib/python3.10/dist-packages (from requests<3,>=2->langchain) (3.4)\n",
            "Requirement already satisfied: greenlet!=0.4.17 in /usr/local/lib/python3.10/dist-packages (from SQLAlchemy<3,>=1.4->langchain) (2.0.2)\n",
            "Requirement already satisfied: packaging>=17.0 in /usr/local/lib/python3.10/dist-packages (from marshmallow<4.0.0,>=3.3.0->dataclasses-json<0.6.0,>=0.5.7->langchain) (23.1)\n",
            "Requirement already satisfied: mypy-extensions>=0.3.0 in /usr/local/lib/python3.10/dist-packages (from typing-inspect>=0.4.0->dataclasses-json<0.6.0,>=0.5.7->langchain) (1.0.0)\n",
            "Looking in indexes: https://pypi.org/simple, https://us-python.pkg.dev/colab-wheels/public/simple/\n",
            "Requirement already satisfied: openai in /usr/local/lib/python3.10/dist-packages (0.27.7)\n",
            "Requirement already satisfied: requests>=2.20 in /usr/local/lib/python3.10/dist-packages (from openai) (2.27.1)\n",
            "Requirement already satisfied: tqdm in /usr/local/lib/python3.10/dist-packages (from openai) (4.65.0)\n",
            "Requirement already satisfied: aiohttp in /usr/local/lib/python3.10/dist-packages (from openai) (3.8.4)\n",
            "Requirement already satisfied: urllib3<1.27,>=1.21.1 in /usr/local/lib/python3.10/dist-packages (from requests>=2.20->openai) (1.26.15)\n",
            "Requirement already satisfied: certifi>=2017.4.17 in /usr/local/lib/python3.10/dist-packages (from requests>=2.20->openai) (2022.12.7)\n",
            "Requirement already satisfied: charset-normalizer~=2.0.0 in /usr/local/lib/python3.10/dist-packages (from requests>=2.20->openai) (2.0.12)\n",
            "Requirement already satisfied: idna<4,>=2.5 in /usr/local/lib/python3.10/dist-packages (from requests>=2.20->openai) (3.4)\n",
            "Requirement already satisfied: attrs>=17.3.0 in /usr/local/lib/python3.10/dist-packages (from aiohttp->openai) (23.1.0)\n",
            "Requirement already satisfied: multidict<7.0,>=4.5 in /usr/local/lib/python3.10/dist-packages (from aiohttp->openai) (6.0.4)\n",
            "Requirement already satisfied: async-timeout<5.0,>=4.0.0a3 in /usr/local/lib/python3.10/dist-packages (from aiohttp->openai) (4.0.2)\n",
            "Requirement already satisfied: yarl<2.0,>=1.0 in /usr/local/lib/python3.10/dist-packages (from aiohttp->openai) (1.9.2)\n",
            "Requirement already satisfied: frozenlist>=1.1.1 in /usr/local/lib/python3.10/dist-packages (from aiohttp->openai) (1.3.3)\n",
            "Requirement already satisfied: aiosignal>=1.1.2 in /usr/local/lib/python3.10/dist-packages (from aiohttp->openai) (1.3.1)\n",
            "Looking in indexes: https://pypi.org/simple, https://us-python.pkg.dev/colab-wheels/public/simple/\n",
            "Collecting tiktoken\n",
            "  Downloading tiktoken-0.4.0-cp310-cp310-manylinux_2_17_x86_64.manylinux2014_x86_64.whl (1.7 MB)\n",
            "\u001b[2K     \u001b[90m━━━━━━━━━━━━━━━━━━━━━━━━━━━━━━━━━━━━━━━━\u001b[0m \u001b[32m1.7/1.7 MB\u001b[0m \u001b[31m60.2 MB/s\u001b[0m eta \u001b[36m0:00:00\u001b[0m\n",
            "\u001b[?25hRequirement already satisfied: regex>=2022.1.18 in /usr/local/lib/python3.10/dist-packages (from tiktoken) (2022.10.31)\n",
            "Requirement already satisfied: requests>=2.26.0 in /usr/local/lib/python3.10/dist-packages (from tiktoken) (2.27.1)\n",
            "Requirement already satisfied: urllib3<1.27,>=1.21.1 in /usr/local/lib/python3.10/dist-packages (from requests>=2.26.0->tiktoken) (1.26.15)\n",
            "Requirement already satisfied: certifi>=2017.4.17 in /usr/local/lib/python3.10/dist-packages (from requests>=2.26.0->tiktoken) (2022.12.7)\n",
            "Requirement already satisfied: charset-normalizer~=2.0.0 in /usr/local/lib/python3.10/dist-packages (from requests>=2.26.0->tiktoken) (2.0.12)\n",
            "Requirement already satisfied: idna<4,>=2.5 in /usr/local/lib/python3.10/dist-packages (from requests>=2.26.0->tiktoken) (3.4)\n",
            "Installing collected packages: tiktoken\n",
            "Successfully installed tiktoken-0.4.0\n"
          ]
        }
      ]
    },
    {
      "cell_type": "code",
      "source": [
        "import os\n",
        "os.environ[\"OPENAI_API_KEY\"] = \"openai-key\""
      ],
      "metadata": {
        "id": "cee7L_56FdMF"
      },
      "execution_count": 2,
      "outputs": []
    },
    {
      "cell_type": "markdown",
      "source": [
        "### Text Completion\n",
        "\n",
        "We will ask GPT to generate an outline for an article we wish to write\n",
        "\n",
        "As you can see from the output, you can generate a blog article outline from less than 5 lines of codes"
      ],
      "metadata": {
        "id": "UUNVYe0iORva"
      }
    },
    {
      "cell_type": "code",
      "source": [
        "from langchain.llms import OpenAI\n",
        "llm = OpenAI(temperature=0.9)\n",
        "text = \"Write me an outline on Tennis\"\n",
        "print(llm(text))"
      ],
      "metadata": {
        "colab": {
          "base_uri": "https://localhost:8080/"
        },
        "id": "Co34TeW0ODRl",
        "outputId": "91495310-bcd1-45ee-dd21-488f76233a82"
      },
      "execution_count": 3,
      "outputs": [
        {
          "output_type": "stream",
          "name": "stderr",
          "text": [
            "WARNING:langchain.utilities.powerbi:Could not import azure.core python package.\n"
          ]
        },
        {
          "output_type": "stream",
          "name": "stdout",
          "text": [
            "\n",
            "\n",
            "I. Introduction \n",
            "A. History of Tennis\n",
            "B. Popularity of Tennis\n",
            "\n",
            "II. Rules of Tennis \n",
            "A. Scoring\n",
            "B. Court Layout\n",
            "C. Types of Shots\n",
            "\n",
            "III. Equipment Used in Tennis\n",
            "A. Rackets\n",
            "B. Strings\n",
            "C. Shoes \n",
            "\n",
            "IV. Types of Tennis \n",
            "A. Singles\n",
            "B. Doubles \n",
            "\n",
            "V. Strategies of Tennis \n",
            "A. Serve\n",
            "B. Return\n",
            "C. Groundstrokes\n",
            "\n",
            "VI. Professional Tennis \n",
            "A. Major Events \n",
            "B. Professional Players \n",
            "\n",
            "VII. Conclusion \n",
            "A. Benefits of Playing Tennis\n",
            "B. Summary of Tennis\n"
          ]
        }
      ]
    },
    {
      "cell_type": "markdown",
      "source": [
        "## *Templates*\n",
        "\n",
        "This is the bread and butter of companies like Jasper and CopyAI. They have a bunch of pre-made templates for various use-cases like Blog Writing, Email writing, Sales letter etc. \n",
        "\n",
        "You can pick any one template and enter your input and can generate relevant content.\n",
        "\n",
        "In this example we will discover how we can generate one such template for the above *example*"
      ],
      "metadata": {
        "id": "ghdws72ROs9I"
      }
    },
    {
      "cell_type": "code",
      "source": [
        "from langchain.prompts import PromptTemplate\n",
        "prompt = PromptTemplate(\n",
        "    input_variables=[\"topic\"],\n",
        "    template=\"Write me an outline on {topic}\",\n",
        ")\n",
        "# The topic varialble is going to be dynamically assigned"
      ],
      "metadata": {
        "id": "Q2-VN6LTGBIl"
      },
      "execution_count": 4,
      "outputs": []
    },
    {
      "cell_type": "markdown",
      "source": [
        "## Chains\n",
        "\n",
        "Now we are going to use a Langchain concept Chains. Chains are responsible for the entire data flow inside Langchain. As we discussed above we are passing dynamic topic input variable to OpenAI. To accommodate this we will be using a chain called LLMChain. There are a bunch of chains supported in Langchain, we will talk about them later\n",
        "\n",
        "LLMChain takes the prompt from the prompt template we created above and fills it up with the dynamic input before passing to OpenAI LLM. Let's define LLMChain below"
      ],
      "metadata": {
        "id": "fT_DGdA9VGE8"
      }
    },
    {
      "cell_type": "code",
      "source": [
        "from langchain.chains import LLMChain\n",
        "chain = LLMChain(llm=llm, prompt=prompt)"
      ],
      "metadata": {
        "id": "lszkNwMNVNiV"
      },
      "execution_count": 5,
      "outputs": []
    },
    {
      "cell_type": "markdown",
      "source": [
        "Now that we have created a prompt template and a chain we can now input any topic we want. Instead of topic \"Tennis\" we can input \"Cricket\" or any other topic of your choice"
      ],
      "metadata": {
        "id": "PNRq_YnoQByB"
      }
    },
    {
      "cell_type": "code",
      "source": [
        "print(chain.run(topic=\"Cricket\"))"
      ],
      "metadata": {
        "colab": {
          "base_uri": "https://localhost:8080/"
        },
        "id": "wUh0JGOgPxyv",
        "outputId": "cefee482-9ba6-4313-908b-555d2c511162"
      },
      "execution_count": 6,
      "outputs": [
        {
          "output_type": "stream",
          "name": "stdout",
          "text": [
            "\n",
            "\n",
            "I. Introduction \n",
            "A. Definition of Cricket\n",
            "B. History of Cricket\n",
            "\n",
            "II. Rules \n",
            "A. Players\n",
            "B. Equipment\n",
            "C. Field Layout\n",
            "\n",
            "III. Playing the Game\n",
            "A. Batting\n",
            "B. Bowling\n",
            "C. Scoring\n",
            "\n",
            "IV. Conclusion \n",
            "A. Overview of game \n",
            "B. Importance of Cricket\n"
          ]
        }
      ]
    },
    {
      "cell_type": "markdown",
      "source": [
        "Now let's extend it for a multi-input prompt. Let's generate an introductory paragraph to a blog post with variables title, audience and tone of voice"
      ],
      "metadata": {
        "id": "uVBNjz2OSzrs"
      }
    },
    {
      "cell_type": "code",
      "source": [
        "prompt = PromptTemplate(\n",
        "    input_variables=[\"title\", \"audience\", \"tone\"],\n",
        "    template=\"\"\"This program will generate an introductory paragraph to a blog post given a blog title, audience, and tone of voice\n",
        "\n",
        "    Blog Title: {title}\n",
        "    Audience: {audience}\n",
        "    Tone of Voice: {tone}\"\"\",\n",
        ")\n",
        "chain = LLMChain(llm=llm, prompt=prompt)"
      ],
      "metadata": {
        "id": "vqVEYaPPGJuM"
      },
      "execution_count": 7,
      "outputs": []
    },
    {
      "cell_type": "code",
      "source": [
        "print(chain.run(title=\"Best Activities in Toronto\", audience=\"Millenials\", tone=\"Lighthearted\"))"
      ],
      "metadata": {
        "colab": {
          "base_uri": "https://localhost:8080/"
        },
        "id": "dJgvUP0pSVat",
        "outputId": "56838235-2e98-4580-9301-6b0808f89a5e"
      },
      "execution_count": 8,
      "outputs": [
        {
          "output_type": "stream",
          "name": "stdout",
          "text": [
            "\n",
            "\n",
            "Are you a millennial looking for the best activities to do in Toronto? Look no further! From vibrant nightlife to outdoor adventures, Toronto has something for everyone. Whether you’re looking to make memories, relax or explore, this city has it all! In this blog post, we'll dive into the top activities that millenials should add to their bucket list. So get ready for some fun, as we explore the best activities that Toronto has to offer!\n"
          ]
        }
      ]
    },
    {
      "cell_type": "markdown",
      "source": [
        "## Combining Chains\n",
        "\n",
        "Often we would want to do multiple tasks using GPT. For example if we wish to generate an outline for a topic and use that outline to write a blog article we need to take the outline created from the first step and copy paste and paste as input to the second step\n",
        "\n",
        "Instead we can combine chains to achieve this in a single step. We will do this using a different type of chain called Sequential Chain. A sequential chain takes the output from one chain and passes on to the next. We will cover chains in more detail later"
      ],
      "metadata": {
        "id": "eP3dAgTgWq-r"
      }
    },
    {
      "cell_type": "code",
      "source": [
        "from langchain.prompts import PromptTemplate\n",
        "prompt = PromptTemplate(\n",
        "    input_variables=[\"topic\"],\n",
        "    template=\"Write me an outline on {topic}\",\n",
        ")\n",
        "llm = OpenAI(temperature=0.9, max_tokens=-1)\n",
        "chain = LLMChain(llm=llm, prompt=prompt)\n",
        "second_prompt = PromptTemplate(\n",
        "    input_variables=[\"outline\"],\n",
        "    template=\"\"\"Write a blog article in the format of the given outline \n",
        "\n",
        "    Outline:\n",
        "    {outline}\"\"\",\n",
        ")\n",
        "chain_two = LLMChain(llm=llm, prompt=second_prompt)"
      ],
      "metadata": {
        "id": "UqHNoQ1OXLCC"
      },
      "execution_count": 14,
      "outputs": []
    },
    {
      "cell_type": "code",
      "source": [
        "from langchain.chains import SimpleSequentialChain\n",
        "overall_chain = SimpleSequentialChain(chains=[chain, chain_two], verbose=True)\n",
        "\n",
        "# Run the chain specifying only the input variable for the first chain.\n",
        "catchphrase = overall_chain.run(\"Tennis\")\n",
        "print(catchphrase)"
      ],
      "metadata": {
        "colab": {
          "base_uri": "https://localhost:8080/"
        },
        "id": "iIieZmmAXaCC",
        "outputId": "ff62bf70-503d-41b0-82a5-ea54a80a0e1d"
      },
      "execution_count": 15,
      "outputs": [
        {
          "output_type": "stream",
          "name": "stdout",
          "text": [
            "\n",
            "\n",
            "\u001b[1m> Entering new SimpleSequentialChain chain...\u001b[0m\n",
            "\u001b[36;1m\u001b[1;3m\n",
            "\n",
            "I. Introduction \n",
            "A. Definition of Tennis\n",
            "B. History of Tennis\n",
            "\n",
            "II. Popularity of Tennis \n",
            "A. Current Tennis Tournaments\n",
            "B. Popular Players\n",
            "\n",
            "III. Tactics and Techniques Used in Tennis \n",
            "A. Strokes \n",
            "B. Footwork \n",
            "C. Serves \n",
            "\n",
            "IV. Equipment Used in Tennis \n",
            "A. Types of Racquets \n",
            "B. String Tension\n",
            "C. Tennis Balls\n",
            "\n",
            "V. Physical and Mental Aspects of Tennis \n",
            "A. Physical Benefits\n",
            "B. Mental Benefits \n",
            "\n",
            "VI. Conclusion \n",
            "A. Summary of Tennis \n",
            "B. Benefits of Playing Tennis\u001b[0m\n",
            "\u001b[33;1m\u001b[1;3m\n",
            "\n",
            "Introduction \n",
            "Tennis is a popular sport that is played with two or four players. It has a long history, influential players, and many tournaments around the world. The game consists of hitting a small ball with a racquet over a net into the opponent’s court. So, what are the specifics of a competitive game of tennis?\n",
            "\n",
            "Popularity of Tennis \n",
            "Tennis has many professional tournaments around the world that attract millions of viewers and contribute billions to the economy. Every four years the Davis Cup is held, which is a men’s international tennis tournament that features teams from around the world. In addition, the Australian Open, the French Open, and Wimbledon are some of the most prestigious tennis tournaments in the world. Notable tennis players like Roger Federer, Rafael Nadal, and Serena Williams have made tennis all the more popular with their incredible performances in various tournaments. \n",
            "\n",
            "Tactics and Techniques Used in Tennis \n",
            "Tennis is a sport that requires intense strategy and a variety of strokes in order to be successful. Different strokes like forehand, backhand, volleys, and smashes are used to maneuver the ball from one end of the court to the other. In addition, the footwork of players is very important as it helps them to move around the court to reach the ball more easily. The serve is also an important part of tennis and players must be able to strategize and effectively execute their serves. \n",
            "\n",
            "Equipment Used in Tennis \n",
            "Tennis racquets come in many shapes and sizes and can be made of various materials depending on the player’s preference. The racquet strings can also be of various tensions, from very loose to very tight. The type of strings and tension can determine the power and control of a player’s strokes. Tennis balls are also an important part of the equipment used and are generally made of rubber or foam with a felt coating. \n",
            "\n",
            "Physical and Mental Aspects of Tennis \n",
            "Playing tennis provides many physical benefits, such as improved hand-eye coordination, agility, and muscle strength. It also enhances mental well-being by helping with concentration, motivation, and stress relief. The mental aspect of tennis is also very important as players must be able to strategize in order to outwit their opponents. \n",
            "\n",
            "Conclusion \n",
            "In conclusion, tennis is a very popular sport that has been played for centuries. It requires a variety of strokes, footwork, and serves in order to be successful. Players must also utilize different types of equipment like racquets, strings, and balls in order to perform. Lastly, playing tennis offers many physical and mental benefits, making it a great sport for anyone to try.\u001b[0m\n",
            "\n",
            "\u001b[1m> Finished chain.\u001b[0m\n",
            "\n",
            "\n",
            "Introduction \n",
            "Tennis is a popular sport that is played with two or four players. It has a long history, influential players, and many tournaments around the world. The game consists of hitting a small ball with a racquet over a net into the opponent’s court. So, what are the specifics of a competitive game of tennis?\n",
            "\n",
            "Popularity of Tennis \n",
            "Tennis has many professional tournaments around the world that attract millions of viewers and contribute billions to the economy. Every four years the Davis Cup is held, which is a men’s international tennis tournament that features teams from around the world. In addition, the Australian Open, the French Open, and Wimbledon are some of the most prestigious tennis tournaments in the world. Notable tennis players like Roger Federer, Rafael Nadal, and Serena Williams have made tennis all the more popular with their incredible performances in various tournaments. \n",
            "\n",
            "Tactics and Techniques Used in Tennis \n",
            "Tennis is a sport that requires intense strategy and a variety of strokes in order to be successful. Different strokes like forehand, backhand, volleys, and smashes are used to maneuver the ball from one end of the court to the other. In addition, the footwork of players is very important as it helps them to move around the court to reach the ball more easily. The serve is also an important part of tennis and players must be able to strategize and effectively execute their serves. \n",
            "\n",
            "Equipment Used in Tennis \n",
            "Tennis racquets come in many shapes and sizes and can be made of various materials depending on the player’s preference. The racquet strings can also be of various tensions, from very loose to very tight. The type of strings and tension can determine the power and control of a player’s strokes. Tennis balls are also an important part of the equipment used and are generally made of rubber or foam with a felt coating. \n",
            "\n",
            "Physical and Mental Aspects of Tennis \n",
            "Playing tennis provides many physical benefits, such as improved hand-eye coordination, agility, and muscle strength. It also enhances mental well-being by helping with concentration, motivation, and stress relief. The mental aspect of tennis is also very important as players must be able to strategize in order to outwit their opponents. \n",
            "\n",
            "Conclusion \n",
            "In conclusion, tennis is a very popular sport that has been played for centuries. It requires a variety of strokes, footwork, and serves in order to be successful. Players must also utilize different types of equipment like racquets, strings, and balls in order to perform. Lastly, playing tennis offers many physical and mental benefits, making it a great sport for anyone to try.\n"
          ]
        }
      ]
    }
  ]
}